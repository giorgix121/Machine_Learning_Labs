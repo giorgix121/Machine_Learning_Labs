{
 "cells": [
  {
   "cell_type": "code",
   "execution_count": 7,
   "id": "34e5e825",
   "metadata": {},
   "outputs": [],
   "source": [
    "import pandas as pd\n",
    "import numpy as np\n",
    "import matplotlib\n",
    "import matplotlib.pyplot as plt\n",
    "%matplotlib inline\n",
    "from sklearn import linear_model, preprocessing"
   ]
  },
  {
   "cell_type": "code",
   "execution_count": 11,
   "id": "46756120",
   "metadata": {},
   "outputs": [
    {
     "data": {
      "text/html": [
       "<div>\n",
       "<style scoped>\n",
       "    .dataframe tbody tr th:only-of-type {\n",
       "        vertical-align: middle;\n",
       "    }\n",
       "\n",
       "    .dataframe tbody tr th {\n",
       "        vertical-align: top;\n",
       "    }\n",
       "\n",
       "    .dataframe thead th {\n",
       "        text-align: right;\n",
       "    }\n",
       "</style>\n",
       "<table border=\"1\" class=\"dataframe\">\n",
       "  <thead>\n",
       "    <tr style=\"text-align: right;\">\n",
       "      <th></th>\n",
       "      <th>DYRK1A_N</th>\n",
       "      <th>ITSN1_N</th>\n",
       "      <th>BDNF_N</th>\n",
       "      <th>NR1_N</th>\n",
       "      <th>NR2A_N</th>\n",
       "      <th>pAKT_N</th>\n",
       "      <th>pBRAF_N</th>\n",
       "      <th>pCAMKII_N</th>\n",
       "      <th>pCREB_N</th>\n",
       "      <th>pELK_N</th>\n",
       "      <th>...</th>\n",
       "      <th>pCFOS_N</th>\n",
       "      <th>SYP_N</th>\n",
       "      <th>H3AcK18_N</th>\n",
       "      <th>EGR1_N</th>\n",
       "      <th>H3MeK4_N</th>\n",
       "      <th>CaNA_N</th>\n",
       "      <th>Genotype</th>\n",
       "      <th>Treatment</th>\n",
       "      <th>Behavior</th>\n",
       "      <th>class</th>\n",
       "    </tr>\n",
       "    <tr>\n",
       "      <th>MouseID</th>\n",
       "      <th></th>\n",
       "      <th></th>\n",
       "      <th></th>\n",
       "      <th></th>\n",
       "      <th></th>\n",
       "      <th></th>\n",
       "      <th></th>\n",
       "      <th></th>\n",
       "      <th></th>\n",
       "      <th></th>\n",
       "      <th></th>\n",
       "      <th></th>\n",
       "      <th></th>\n",
       "      <th></th>\n",
       "      <th></th>\n",
       "      <th></th>\n",
       "      <th></th>\n",
       "      <th></th>\n",
       "      <th></th>\n",
       "      <th></th>\n",
       "      <th></th>\n",
       "    </tr>\n",
       "  </thead>\n",
       "  <tbody>\n",
       "    <tr>\n",
       "      <th>309_1</th>\n",
       "      <td>0.503644</td>\n",
       "      <td>0.747193</td>\n",
       "      <td>0.430175</td>\n",
       "      <td>2.816329</td>\n",
       "      <td>5.990152</td>\n",
       "      <td>0.218830</td>\n",
       "      <td>0.177565</td>\n",
       "      <td>2.373744</td>\n",
       "      <td>0.232224</td>\n",
       "      <td>1.750936</td>\n",
       "      <td>...</td>\n",
       "      <td>0.108336</td>\n",
       "      <td>0.427099</td>\n",
       "      <td>0.114783</td>\n",
       "      <td>0.131790</td>\n",
       "      <td>0.128186</td>\n",
       "      <td>1.675652</td>\n",
       "      <td>Control</td>\n",
       "      <td>Memantine</td>\n",
       "      <td>C/S</td>\n",
       "      <td>c-CS-m</td>\n",
       "    </tr>\n",
       "    <tr>\n",
       "      <th>309_2</th>\n",
       "      <td>0.514617</td>\n",
       "      <td>0.689064</td>\n",
       "      <td>0.411770</td>\n",
       "      <td>2.789514</td>\n",
       "      <td>5.685038</td>\n",
       "      <td>0.211636</td>\n",
       "      <td>0.172817</td>\n",
       "      <td>2.292150</td>\n",
       "      <td>0.226972</td>\n",
       "      <td>1.596377</td>\n",
       "      <td>...</td>\n",
       "      <td>0.104315</td>\n",
       "      <td>0.441581</td>\n",
       "      <td>0.111974</td>\n",
       "      <td>0.135103</td>\n",
       "      <td>0.131119</td>\n",
       "      <td>1.743610</td>\n",
       "      <td>Control</td>\n",
       "      <td>Memantine</td>\n",
       "      <td>C/S</td>\n",
       "      <td>c-CS-m</td>\n",
       "    </tr>\n",
       "    <tr>\n",
       "      <th>309_3</th>\n",
       "      <td>0.509183</td>\n",
       "      <td>0.730247</td>\n",
       "      <td>0.418309</td>\n",
       "      <td>2.687201</td>\n",
       "      <td>5.622059</td>\n",
       "      <td>0.209011</td>\n",
       "      <td>0.175722</td>\n",
       "      <td>2.283337</td>\n",
       "      <td>0.230247</td>\n",
       "      <td>1.561316</td>\n",
       "      <td>...</td>\n",
       "      <td>0.106219</td>\n",
       "      <td>0.435777</td>\n",
       "      <td>0.111883</td>\n",
       "      <td>0.133362</td>\n",
       "      <td>0.127431</td>\n",
       "      <td>1.926427</td>\n",
       "      <td>Control</td>\n",
       "      <td>Memantine</td>\n",
       "      <td>C/S</td>\n",
       "      <td>c-CS-m</td>\n",
       "    </tr>\n",
       "    <tr>\n",
       "      <th>309_4</th>\n",
       "      <td>0.442107</td>\n",
       "      <td>0.617076</td>\n",
       "      <td>0.358626</td>\n",
       "      <td>2.466947</td>\n",
       "      <td>4.979503</td>\n",
       "      <td>0.222886</td>\n",
       "      <td>0.176463</td>\n",
       "      <td>2.152301</td>\n",
       "      <td>0.207004</td>\n",
       "      <td>1.595086</td>\n",
       "      <td>...</td>\n",
       "      <td>0.111262</td>\n",
       "      <td>0.391691</td>\n",
       "      <td>0.130405</td>\n",
       "      <td>0.147444</td>\n",
       "      <td>0.146901</td>\n",
       "      <td>1.700563</td>\n",
       "      <td>Control</td>\n",
       "      <td>Memantine</td>\n",
       "      <td>C/S</td>\n",
       "      <td>c-CS-m</td>\n",
       "    </tr>\n",
       "    <tr>\n",
       "      <th>309_5</th>\n",
       "      <td>0.434940</td>\n",
       "      <td>0.617430</td>\n",
       "      <td>0.358802</td>\n",
       "      <td>2.365785</td>\n",
       "      <td>4.718679</td>\n",
       "      <td>0.213106</td>\n",
       "      <td>0.173627</td>\n",
       "      <td>2.134014</td>\n",
       "      <td>0.192158</td>\n",
       "      <td>1.504230</td>\n",
       "      <td>...</td>\n",
       "      <td>0.110694</td>\n",
       "      <td>0.434154</td>\n",
       "      <td>0.118481</td>\n",
       "      <td>0.140314</td>\n",
       "      <td>0.148380</td>\n",
       "      <td>1.839730</td>\n",
       "      <td>Control</td>\n",
       "      <td>Memantine</td>\n",
       "      <td>C/S</td>\n",
       "      <td>c-CS-m</td>\n",
       "    </tr>\n",
       "    <tr>\n",
       "      <th>309_6</th>\n",
       "      <td>0.447506</td>\n",
       "      <td>0.628176</td>\n",
       "      <td>0.367388</td>\n",
       "      <td>2.385939</td>\n",
       "      <td>4.807635</td>\n",
       "      <td>0.218578</td>\n",
       "      <td>0.176233</td>\n",
       "      <td>2.141282</td>\n",
       "      <td>0.195188</td>\n",
       "      <td>1.442398</td>\n",
       "      <td>...</td>\n",
       "      <td>0.109446</td>\n",
       "      <td>0.439833</td>\n",
       "      <td>0.116657</td>\n",
       "      <td>0.140766</td>\n",
       "      <td>0.142180</td>\n",
       "      <td>1.816389</td>\n",
       "      <td>Control</td>\n",
       "      <td>Memantine</td>\n",
       "      <td>C/S</td>\n",
       "      <td>c-CS-m</td>\n",
       "    </tr>\n",
       "  </tbody>\n",
       "</table>\n",
       "<p>6 rows × 81 columns</p>\n",
       "</div>"
      ],
      "text/plain": [
       "         DYRK1A_N   ITSN1_N    BDNF_N     NR1_N    NR2A_N    pAKT_N   pBRAF_N  \\\n",
       "MouseID                                                                         \n",
       "309_1    0.503644  0.747193  0.430175  2.816329  5.990152  0.218830  0.177565   \n",
       "309_2    0.514617  0.689064  0.411770  2.789514  5.685038  0.211636  0.172817   \n",
       "309_3    0.509183  0.730247  0.418309  2.687201  5.622059  0.209011  0.175722   \n",
       "309_4    0.442107  0.617076  0.358626  2.466947  4.979503  0.222886  0.176463   \n",
       "309_5    0.434940  0.617430  0.358802  2.365785  4.718679  0.213106  0.173627   \n",
       "309_6    0.447506  0.628176  0.367388  2.385939  4.807635  0.218578  0.176233   \n",
       "\n",
       "         pCAMKII_N   pCREB_N    pELK_N  ...   pCFOS_N     SYP_N  H3AcK18_N  \\\n",
       "MouseID                                 ...                                  \n",
       "309_1     2.373744  0.232224  1.750936  ...  0.108336  0.427099   0.114783   \n",
       "309_2     2.292150  0.226972  1.596377  ...  0.104315  0.441581   0.111974   \n",
       "309_3     2.283337  0.230247  1.561316  ...  0.106219  0.435777   0.111883   \n",
       "309_4     2.152301  0.207004  1.595086  ...  0.111262  0.391691   0.130405   \n",
       "309_5     2.134014  0.192158  1.504230  ...  0.110694  0.434154   0.118481   \n",
       "309_6     2.141282  0.195188  1.442398  ...  0.109446  0.439833   0.116657   \n",
       "\n",
       "           EGR1_N  H3MeK4_N    CaNA_N  Genotype  Treatment  Behavior   class  \n",
       "MouseID                                                                       \n",
       "309_1    0.131790  0.128186  1.675652   Control  Memantine       C/S  c-CS-m  \n",
       "309_2    0.135103  0.131119  1.743610   Control  Memantine       C/S  c-CS-m  \n",
       "309_3    0.133362  0.127431  1.926427   Control  Memantine       C/S  c-CS-m  \n",
       "309_4    0.147444  0.146901  1.700563   Control  Memantine       C/S  c-CS-m  \n",
       "309_5    0.140314  0.148380  1.839730   Control  Memantine       C/S  c-CS-m  \n",
       "309_6    0.140766  0.142180  1.816389   Control  Memantine       C/S  c-CS-m  \n",
       "\n",
       "[6 rows x 81 columns]"
      ]
     },
     "execution_count": 11,
     "metadata": {},
     "output_type": "execute_result"
    }
   ],
   "source": [
    "# TODO 1\n",
    "# df = ...\n",
    "df = pd.read_excel(\"https://archive.ics.uci.edu/ml/machine-learning-databases/00342/Data_Cortex_Nuclear.xls\",index_col=0)\n",
    "df.head(6)"
   ]
  },
  {
   "cell_type": "code",
   "execution_count": 14,
   "id": "3bd6cfc4",
   "metadata": {},
   "outputs": [],
   "source": [
    "# TODO 2\n",
    "# df1 = ...\n",
    "df1 = df.where(pd.notnull(df), df.mean(numeric_only=True), axis='columns')\n"
   ]
  },
  {
   "cell_type": "code",
   "execution_count": 15,
   "id": "4cb14080",
   "metadata": {},
   "outputs": [],
   "source": [
    "# TODO 3\n",
    "# y = ...\n",
    "ystr = df1['Genotype'].values\n",
    "u, y = np.unique(ystr, return_inverse=True)"
   ]
  },
  {
   "cell_type": "code",
   "execution_count": 16,
   "id": "dda03331",
   "metadata": {},
   "outputs": [],
   "source": [
    "# TODO 4\n",
    "# xnames = ...\n",
    "# X = ...\n",
    "xnames = df1.columns[:-4]\n",
    "X = np.array(df1[xnames].values)"
   ]
  },
  {
   "cell_type": "code",
   "execution_count": 17,
   "id": "c46f7947",
   "metadata": {},
   "outputs": [],
   "source": [
    "from sklearn.model_selection import train_test_split\n",
    "# TODO:\n",
    "# Xtr, Xts, ytr, yts = ...\n",
    "from sklearn.model_selection import train_test_split\n",
    "Xtr, Xts, ytr, yts = train_test_split(X,y, test_size=0.3)"
   ]
  },
  {
   "cell_type": "code",
   "execution_count": 18,
   "id": "ef064572",
   "metadata": {},
   "outputs": [],
   "source": [
    "from sklearn.preprocessing import StandardScaler\n",
    "# TODO 6\n",
    "# Xtr1 = ...\n",
    "scaler = StandardScaler()\n",
    "Xtr1 = scaler.fit_transform(Xtr)\n",
    "Xts1 = scaler.transform(Xts)"
   ]
  },
  {
   "cell_type": "code",
   "execution_count": 19,
   "id": "a2427710",
   "metadata": {},
   "outputs": [
    {
     "data": {
      "text/html": [
       "<style>#sk-container-id-1 {color: black;}#sk-container-id-1 pre{padding: 0;}#sk-container-id-1 div.sk-toggleable {background-color: white;}#sk-container-id-1 label.sk-toggleable__label {cursor: pointer;display: block;width: 100%;margin-bottom: 0;padding: 0.3em;box-sizing: border-box;text-align: center;}#sk-container-id-1 label.sk-toggleable__label-arrow:before {content: \"▸\";float: left;margin-right: 0.25em;color: #696969;}#sk-container-id-1 label.sk-toggleable__label-arrow:hover:before {color: black;}#sk-container-id-1 div.sk-estimator:hover label.sk-toggleable__label-arrow:before {color: black;}#sk-container-id-1 div.sk-toggleable__content {max-height: 0;max-width: 0;overflow: hidden;text-align: left;background-color: #f0f8ff;}#sk-container-id-1 div.sk-toggleable__content pre {margin: 0.2em;color: black;border-radius: 0.25em;background-color: #f0f8ff;}#sk-container-id-1 input.sk-toggleable__control:checked~div.sk-toggleable__content {max-height: 200px;max-width: 100%;overflow: auto;}#sk-container-id-1 input.sk-toggleable__control:checked~label.sk-toggleable__label-arrow:before {content: \"▾\";}#sk-container-id-1 div.sk-estimator input.sk-toggleable__control:checked~label.sk-toggleable__label {background-color: #d4ebff;}#sk-container-id-1 div.sk-label input.sk-toggleable__control:checked~label.sk-toggleable__label {background-color: #d4ebff;}#sk-container-id-1 input.sk-hidden--visually {border: 0;clip: rect(1px 1px 1px 1px);clip: rect(1px, 1px, 1px, 1px);height: 1px;margin: -1px;overflow: hidden;padding: 0;position: absolute;width: 1px;}#sk-container-id-1 div.sk-estimator {font-family: monospace;background-color: #f0f8ff;border: 1px dotted black;border-radius: 0.25em;box-sizing: border-box;margin-bottom: 0.5em;}#sk-container-id-1 div.sk-estimator:hover {background-color: #d4ebff;}#sk-container-id-1 div.sk-parallel-item::after {content: \"\";width: 100%;border-bottom: 1px solid gray;flex-grow: 1;}#sk-container-id-1 div.sk-label:hover label.sk-toggleable__label {background-color: #d4ebff;}#sk-container-id-1 div.sk-serial::before {content: \"\";position: absolute;border-left: 1px solid gray;box-sizing: border-box;top: 0;bottom: 0;left: 50%;z-index: 0;}#sk-container-id-1 div.sk-serial {display: flex;flex-direction: column;align-items: center;background-color: white;padding-right: 0.2em;padding-left: 0.2em;position: relative;}#sk-container-id-1 div.sk-item {position: relative;z-index: 1;}#sk-container-id-1 div.sk-parallel {display: flex;align-items: stretch;justify-content: center;background-color: white;position: relative;}#sk-container-id-1 div.sk-item::before, #sk-container-id-1 div.sk-parallel-item::before {content: \"\";position: absolute;border-left: 1px solid gray;box-sizing: border-box;top: 0;bottom: 0;left: 50%;z-index: -1;}#sk-container-id-1 div.sk-parallel-item {display: flex;flex-direction: column;z-index: 1;position: relative;background-color: white;}#sk-container-id-1 div.sk-parallel-item:first-child::after {align-self: flex-end;width: 50%;}#sk-container-id-1 div.sk-parallel-item:last-child::after {align-self: flex-start;width: 50%;}#sk-container-id-1 div.sk-parallel-item:only-child::after {width: 0;}#sk-container-id-1 div.sk-dashed-wrapped {border: 1px dashed gray;margin: 0 0.4em 0.5em 0.4em;box-sizing: border-box;padding-bottom: 0.4em;background-color: white;}#sk-container-id-1 div.sk-label label {font-family: monospace;font-weight: bold;display: inline-block;line-height: 1.2em;}#sk-container-id-1 div.sk-label-container {text-align: center;}#sk-container-id-1 div.sk-container {/* jupyter's `normalize.less` sets `[hidden] { display: none; }` but bootstrap.min.css set `[hidden] { display: none !important; }` so we also need the `!important` here to be able to override the default hidden behavior on the sphinx rendered scikit-learn.org. See: https://github.com/scikit-learn/scikit-learn/issues/21755 */display: inline-block !important;position: relative;}#sk-container-id-1 div.sk-text-repr-fallback {display: none;}</style><div id=\"sk-container-id-1\" class=\"sk-top-container\"><div class=\"sk-text-repr-fallback\"><pre>LogisticRegression(C=100000.0, solver=&#x27;liblinear&#x27;)</pre><b>In a Jupyter environment, please rerun this cell to show the HTML representation or trust the notebook. <br />On GitHub, the HTML representation is unable to render, please try loading this page with nbviewer.org.</b></div><div class=\"sk-container\" hidden><div class=\"sk-item\"><div class=\"sk-estimator sk-toggleable\"><input class=\"sk-toggleable__control sk-hidden--visually\" id=\"sk-estimator-id-1\" type=\"checkbox\" checked><label for=\"sk-estimator-id-1\" class=\"sk-toggleable__label sk-toggleable__label-arrow\">LogisticRegression</label><div class=\"sk-toggleable__content\"><pre>LogisticRegression(C=100000.0, solver=&#x27;liblinear&#x27;)</pre></div></div></div></div></div>"
      ],
      "text/plain": [
       "LogisticRegression(C=100000.0, solver='liblinear')"
      ]
     },
     "execution_count": 19,
     "metadata": {},
     "output_type": "execute_result"
    }
   ],
   "source": [
    "# TODO 7\n",
    "# logreg = ...\n",
    "logreg = linear_model.LogisticRegression(C=1e5, solver = 'liblinear')\n",
    "logreg.fit(Xtr1, ytr)"
   ]
  },
  {
   "cell_type": "code",
   "execution_count": 20,
   "id": "c478ab41",
   "metadata": {},
   "outputs": [
    {
     "name": "stdout",
     "output_type": "stream",
     "text": [
      "Accuracy of the classifer is 0.9568.\n"
     ]
    }
   ],
   "source": [
    "# TODO 8\n",
    "# yhat = ...\n",
    "yhat = logreg.predict(Xts1)\n",
    "acc = np.mean(yhat == yts)\n",
    "print('Accuracy of the classifer is %5.4f.' % acc)"
   ]
  },
  {
   "cell_type": "code",
   "execution_count": 39,
   "id": "1ffaa7df",
   "metadata": {},
   "outputs": [
    {
     "data": {
      "text/plain": [
       "<StemContainer object of 3 artists>"
      ]
     },
     "execution_count": 39,
     "metadata": {},
     "output_type": "execute_result"
    },
    {
     "data": {
      "image/png": "[encoded data removed]",
      "text/plain": [
       "<Figure size 640x480 with 1 Axes>"
      ]
     },
     "metadata": {},
     "output_type": "display_data"
    }
   ],
   "source": [
    "#TODO 9\n",
    "W = logreg.coef_.ravel()\n",
    "plt.stem(W)"
   ]
  },
  {
   "cell_type": "code",
   "execution_count": 26,
   "id": "672e4211",
   "metadata": {},
   "outputs": [
    {
     "name": "stdout",
     "output_type": "stream",
     "text": [
      "Genes with largest W magnitude are ITSN1_N and BRAF_N.\n"
     ]
    }
   ],
   "source": [
    "# TODO 10\n",
    "W_sort = np.argsort(np.abs(W))\n",
    "name1 = xnames[W_sort[-1]]\n",
    "name2 = xnames[W_sort[-2]]\n",
    "print('Genes with largest W magnitude are %s and %s.' % (name1, name2))"
   ]
  },
  {
   "cell_type": "code",
   "execution_count": 30,
   "id": "297706de",
   "metadata": {},
   "outputs": [
    {
     "name": "stdout",
     "output_type": "stream",
     "text": [
      "Mean Precision = 0.958\n",
      "Mean Recall = 0.958\n",
      "Mean f_1 = 0.958\n",
      "Mean Error Rate = 0.042\n"
     ]
    }
   ],
   "source": [
    "#TODO 11\n",
    "from sklearn.model_selection import KFold\n",
    "from sklearn.metrics import precision_recall_fscore_support\n",
    "from sklearn.preprocessing import StandardScaler\n",
    "from sklearn import linear_model\n",
    "\n",
    "nfold = 10\n",
    "kf = KFold(n_splits=nfold, shuffle=True)\n",
    "\n",
    "\n",
    "precision = []\n",
    "recall = []\n",
    "f1 = []\n",
    "error_rate = []\n",
    "\n",
    "for Itr, Its in kf.split(X):\n",
    "    Xtr = X[Itr, :]\n",
    "    ytr = y[Itr]\n",
    "    Xts = X[Its, :]\n",
    "    yts = y[Its]\n",
    "\n",
    "    scaler = StandardScaler()\n",
    "    Xtr1 = scaler.fit_transform(Xtr)\n",
    "    Xts1 = scaler.transform(Xts)\n",
    "\n",
    "    logreg = linear_model.LogisticRegression(C=1e5, solver='liblinear') \n",
    "    logreg.fit(Xtr1, ytr)\n",
    "    yhat = logreg.predict(Xts1)\n",
    "\n",
    "    measure = precision_recall_fscore_support(yts, yhat, average=None)\n",
    "    precision_i = measure[0]\n",
    "    recall_i = measure[1]\n",
    "    f1_i = measure[2]\n",
    "\n",
    "    precision.append(precision_i)\n",
    "    recall.append(recall_i)\n",
    "    f1.append(f1_i)\n",
    "    error_rate.append(np.mean(yhat != yts))\n",
    "\n",
    "precision = np.mean(precision)\n",
    "recall = np.mean(recall)\n",
    "f1 = np.mean(f1)\n",
    "error_rate = np.mean(error_rate)\n",
    "\n",
    "print('Mean Precision = %.3f' % precision)\n",
    "print('Mean Recall = %.3f' % recall)\n",
    "print('Mean f_1 = %.3f' % f1)\n",
    "print('Mean Error Rate = %.3f' % error_rate)"
   ]
  },
  {
   "cell_type": "code",
   "execution_count": 31,
   "id": "3c09f3b3",
   "metadata": {},
   "outputs": [],
   "source": [
    "#TODO 12\n",
    "ystr = df1['class'].values\n",
    "u, y = np.unique(ystr, return_inverse=True)"
   ]
  },
  {
   "cell_type": "code",
   "execution_count": 32,
   "id": "77c83cb3",
   "metadata": {},
   "outputs": [
    {
     "name": "stdout",
     "output_type": "stream",
     "text": [
      "[[0.9733 0.0222 0.0067 0.     0.     0.     0.     0.    ]\n",
      " [0.0267 0.963  0.     0.     0.0074 0.     0.     0.    ]\n",
      " [0.     0.0074 0.9867 0.     0.0074 0.     0.     0.    ]\n",
      " [0.0133 0.     0.     0.9852 0.     0.     0.     0.    ]\n",
      " [0.     0.     0.     0.     1.     0.     0.     0.    ]\n",
      " [0.     0.     0.     0.     0.     1.     0.     0.    ]\n",
      " [0.     0.     0.     0.     0.     0.     1.     0.    ]\n",
      " [0.     0.     0.     0.     0.     0.     0.     1.    ]]\n",
      "Mean of accuracy = 0.9880\n",
      "SE of accuracy = 0.0034\n"
     ]
    }
   ],
   "source": [
    "from sklearn.metrics import confusion_matrix\n",
    "from sklearn.model_selection import KFold\n",
    "# TODO 13\n",
    " \n",
    "from scipy.stats import sem\n",
    "nfold = 10\n",
    "kf = KFold(n_splits=nfold,shuffle=True)\n",
    "confusion = np.zeros((8,8))\n",
    "acc = []\n",
    "for ind in kf.split(X):\n",
    "    itr, its = ind\n",
    "    Xtr = X[itr,:]\n",
    "    ytr = y[itr]\n",
    "    Xts = X[its,:]\n",
    "    yts = y[its]\n",
    "\n",
    "    scaler = StandardScaler()\n",
    "    Xtr1 = scaler.fit_transform(Xtr)\n",
    "    Xts1 = scaler.transform(Xts)\n",
    "\n",
    "    logreg.fit(Xtr1, ytr)\n",
    "    yhat = logreg.predict(Xts1)\n",
    "\n",
    "    acc.append(np.mean(yhat == yts))\n",
    "    confusion += confusion_matrix(yts, yhat)\n",
    "confusion = confusion / confusion.sum(axis=1)\n",
    "acc_mean = np.mean(acc)\n",
    "acc_se = sem(acc)\n",
    "print(np.array_str(confusion, precision=4, suppress_small=True))\n",
    "print('Mean of accuracy = %.4f' % acc_mean)\n",
    "print('SE of accuracy = %.4f' % acc_se)"
   ]
  },
  {
   "cell_type": "code",
   "execution_count": 41,
   "id": "090e127e",
   "metadata": {},
   "outputs": [
    {
     "data": {
      "text/plain": [
       "<StemContainer object of 3 artists>"
      ]
     },
     "execution_count": 41,
     "metadata": {},
     "output_type": "execute_result"
    },
    {
     "data": {
      "image/png": "[encoded data removed]",
      "text/plain": [
       "<Figure size 640x480 with 1 Axes>"
      ]
     },
     "metadata": {},
     "output_type": "display_data"
    }
   ],
   "source": [
    "# TODO 14 \n",
    "X1 = scaler.fit_transform(X)\n",
    "logreg.fit(X1, y)\n",
    "W = logreg.coef_[0,:]\n",
    "plt.stem(W)"
   ]
  },
  {
   "cell_type": "code",
   "execution_count": 40,
   "id": "4af51b27",
   "metadata": {},
   "outputs": [
    {
     "name": "stdout",
     "output_type": "stream",
     "text": [
      "The mean accuracy rate for the optimal penalty rate 16.2378 is 0.9917 with SE 0.0029\n",
      "The weight matrix is much sparser than that without l1 penalization.\n"
     ]
    },
    {
     "data": {
      "image/png": "[encoded data removed]",
      "text/plain": [
       "<Figure size 640x480 with 1 Axes>"
      ]
     },
     "metadata": {},
     "output_type": "display_data"
    }
   ],
   "source": [
    "#TODO 15\n",
    "from sklearn.metrics import confusion_matrix\n",
    "from sklearn.model_selection import KFold\n",
    "from scipy.stats import sem\n",
    "\n",
    "nfold = 10\n",
    "kf = KFold(n_splits=nfold, shuffle=True)\n",
    "C = np.logspace(-1, 2, 20)\n",
    "acc_matrix = np.zeros((10, 20))\n",
    "scaler = StandardScaler()  \n",
    "\n",
    "for i, ind in enumerate(kf.split(X)):\n",
    "    itr, its = ind\n",
    "    Xtr = X[itr, :]\n",
    "    ytr = y[itr]\n",
    "    Xts = X[its, :]\n",
    "    yts = y[its]\n",
    "\n",
    "    Xtr1 = scaler.fit_transform(Xtr)\n",
    "    Xts1 = scaler.transform(Xts)\n",
    "\n",
    "    for j, c in enumerate(C):\n",
    "        logreg = linear_model.LogisticRegression(C=c, penalty='l1', solver='liblinear')\n",
    "        logreg.fit(Xtr1, ytr)\n",
    "\n",
    "        yhat = logreg.predict(Xts1)\n",
    "\n",
    "        acc_matrix[i, j] = np.mean(yhat == yts)\n",
    "\n",
    "acc_mean = np.mean(acc_matrix, axis=0)\n",
    "acc_se = sem(acc_matrix, axis=0)\n",
    "\n",
    "plt.errorbar(np.log10(C), acc_mean, yerr=acc_se, ecolor='r')\n",
    "plt.xlabel('Penalty')\n",
    "plt.ylabel('Accuracy Rate')\n",
    "plt.grid()\n",
    "\n",
    "C_opt = C[np.argmax(acc_mean)]\n",
    "acc_mean_opt = np.max(acc_mean)\n",
    "acc_se_opt = acc_se[np.argmax(acc_mean)]\n",
    "\n",
    "print('The mean accuracy rate for the optimal penalty rate %.4f is %.4f with SE %.4f' % (C_opt, acc_mean_opt, acc_se_opt))\n",
    "\n",
    "X1 = scaler.fit_transform(X)\n",
    "\n",
    "logreg = linear_model.LogisticRegression(C=C_opt, penalty='l1', solver='liblinear')\n",
    "logreg.fit(X1, y)\n",
    "\n",
    "W_c = logreg.coef_[0, :]\n",
    "plt.stem(W_c)\n",
    "\n",
    "print('The weight matrix is much sparser than that without l1 penalization.')\n"
   ]
  },
  {
   "cell_type": "code",
   "execution_count": null,
   "id": "77e088b3",
   "metadata": {},
   "outputs": [],
   "source": []
  }
 ],
 "metadata": {
  "kernelspec": {
   "display_name": "Python 3 (ipykernel)",
   "language": "python",
   "name": "python3"
  },
  "language_info": {
   "codemirror_mode": {
    "name": "ipython",
    "version": 3
   },
   "file_extension": ".py",
   "mimetype": "text/x-python",
   "name": "python",
   "nbconvert_exporter": "python",
   "pygments_lexer": "ipython3",
   "version": "3.11.4"
  }
 },
 "nbformat": 4,
 "nbformat_minor": 5
}
